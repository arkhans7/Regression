{
 "cells": [
  {
   "cell_type": "code",
   "execution_count": 1,
   "id": "3878838c-98f0-42f6-9f14-0804b3e1fb4c",
   "metadata": {
    "tags": []
   },
   "outputs": [],
   "source": [
    "import pandas as pd\n",
    "import numpy as np\n",
    "import matplotlib.pyplot as plt\n",
    "import seaborn as sns"
   ]
  },
  {
   "cell_type": "code",
   "execution_count": 2,
   "id": "931be7e4-a75f-4eda-9b3d-6fedbb607b5e",
   "metadata": {
    "tags": []
   },
   "outputs": [
    {
     "data": {
      "text/html": [
       "<div>\n",
       "<style scoped>\n",
       "    .dataframe tbody tr th:only-of-type {\n",
       "        vertical-align: middle;\n",
       "    }\n",
       "\n",
       "    .dataframe tbody tr th {\n",
       "        vertical-align: top;\n",
       "    }\n",
       "\n",
       "    .dataframe thead th {\n",
       "        text-align: right;\n",
       "    }\n",
       "</style>\n",
       "<table border=\"1\" class=\"dataframe\">\n",
       "  <thead>\n",
       "    <tr style=\"text-align: right;\">\n",
       "      <th></th>\n",
       "      <th>Provinsi</th>\n",
       "      <th>IPM</th>\n",
       "      <th>persentase penduduk miskin</th>\n",
       "      <th>tpt</th>\n",
       "      <th>persentase pekerja formal</th>\n",
       "    </tr>\n",
       "  </thead>\n",
       "  <tbody>\n",
       "    <tr>\n",
       "      <th>0</th>\n",
       "      <td>Aceh</td>\n",
       "      <td>72.18</td>\n",
       "      <td>15.53</td>\n",
       "      <td>6.30</td>\n",
       "      <td>39.31</td>\n",
       "    </tr>\n",
       "    <tr>\n",
       "      <th>1</th>\n",
       "      <td>Sumatera Utara</td>\n",
       "      <td>72.00</td>\n",
       "      <td>8.49</td>\n",
       "      <td>6.33</td>\n",
       "      <td>40.67</td>\n",
       "    </tr>\n",
       "    <tr>\n",
       "      <th>2</th>\n",
       "      <td>Sumatera Barat</td>\n",
       "      <td>72.65</td>\n",
       "      <td>6.04</td>\n",
       "      <td>6.52</td>\n",
       "      <td>35.23</td>\n",
       "    </tr>\n",
       "    <tr>\n",
       "      <th>3</th>\n",
       "      <td>Riau</td>\n",
       "      <td>72.94</td>\n",
       "      <td>7.00</td>\n",
       "      <td>4.42</td>\n",
       "      <td>45.43</td>\n",
       "    </tr>\n",
       "    <tr>\n",
       "      <th>4</th>\n",
       "      <td>Jambi</td>\n",
       "      <td>71.63</td>\n",
       "      <td>7.67</td>\n",
       "      <td>5.09</td>\n",
       "      <td>37.99</td>\n",
       "    </tr>\n",
       "  </tbody>\n",
       "</table>\n",
       "</div>"
      ],
      "text/plain": [
       "         Provinsi    IPM  persentase penduduk miskin   tpt  \\\n",
       "0            Aceh  72.18                       15.53  6.30   \n",
       "1  Sumatera Utara  72.00                        8.49  6.33   \n",
       "2  Sumatera Barat  72.65                        6.04  6.52   \n",
       "3            Riau  72.94                        7.00  4.42   \n",
       "4           Jambi  71.63                        7.67  5.09   \n",
       "\n",
       "   persentase pekerja formal  \n",
       "0                      39.31  \n",
       "1                      40.67  \n",
       "2                      35.23  \n",
       "3                      45.43  \n",
       "4                      37.99  "
      ]
     },
     "execution_count": 2,
     "metadata": {},
     "output_type": "execute_result"
    }
   ],
   "source": [
    "data = pd.read_excel(\"Analisis IPM.xlsx\")\n",
    "data.head()"
   ]
  },
  {
   "cell_type": "code",
   "execution_count": 10,
   "id": "e5ee8540-b88a-4cc6-8897-c4685b4d8a50",
   "metadata": {
    "tags": []
   },
   "outputs": [
    {
     "name": "stdout",
     "output_type": "stream",
     "text": [
      "<class 'pandas.core.frame.DataFrame'>\n",
      "RangeIndex: 34 entries, 0 to 33\n",
      "Data columns (total 5 columns):\n",
      " #   Column    Non-Null Count  Dtype  \n",
      "---  ------    --------------  -----  \n",
      " 0   Provinsi  34 non-null     object \n",
      " 1   Y         34 non-null     float64\n",
      " 2   X1        34 non-null     float64\n",
      " 3   X2        34 non-null     float64\n",
      " 4   X3        34 non-null     float64\n",
      "dtypes: float64(4), object(1)\n",
      "memory usage: 1.5+ KB\n"
     ]
    }
   ],
   "source": [
    "data.info()"
   ]
  },
  {
   "cell_type": "markdown",
   "id": "7199e970-0ea9-4055-9d92-ebbf57edc832",
   "metadata": {},
   "source": [
    "## STATISTIKA DESKRIPTIF"
   ]
  },
  {
   "cell_type": "code",
   "execution_count": 4,
   "id": "0268fd7e-e4dc-4489-8e7a-810e05fd6e60",
   "metadata": {
    "tags": []
   },
   "outputs": [
    {
     "data": {
      "text/html": [
       "<div>\n",
       "<style scoped>\n",
       "    .dataframe tbody tr th:only-of-type {\n",
       "        vertical-align: middle;\n",
       "    }\n",
       "\n",
       "    .dataframe tbody tr th {\n",
       "        vertical-align: top;\n",
       "    }\n",
       "\n",
       "    .dataframe thead th {\n",
       "        text-align: right;\n",
       "    }\n",
       "</style>\n",
       "<table border=\"1\" class=\"dataframe\">\n",
       "  <thead>\n",
       "    <tr style=\"text-align: right;\">\n",
       "      <th></th>\n",
       "      <th>IPM</th>\n",
       "      <th>persentase penduduk miskin</th>\n",
       "      <th>tpt</th>\n",
       "      <th>persentase pekerja formal</th>\n",
       "    </tr>\n",
       "  </thead>\n",
       "  <tbody>\n",
       "    <tr>\n",
       "      <th>count</th>\n",
       "      <td>34.000000</td>\n",
       "      <td>34.000000</td>\n",
       "      <td>34.000000</td>\n",
       "      <td>34.000000</td>\n",
       "    </tr>\n",
       "    <tr>\n",
       "      <th>mean</th>\n",
       "      <td>71.361176</td>\n",
       "      <td>10.427353</td>\n",
       "      <td>5.492059</td>\n",
       "      <td>39.792353</td>\n",
       "    </tr>\n",
       "    <tr>\n",
       "      <th>std</th>\n",
       "      <td>3.937439</td>\n",
       "      <td>5.411687</td>\n",
       "      <td>1.818745</td>\n",
       "      <td>9.633167</td>\n",
       "    </tr>\n",
       "    <tr>\n",
       "      <th>min</th>\n",
       "      <td>60.620000</td>\n",
       "      <td>4.560000</td>\n",
       "      <td>3.010000</td>\n",
       "      <td>19.530000</td>\n",
       "    </tr>\n",
       "    <tr>\n",
       "      <th>25%</th>\n",
       "      <td>69.730000</td>\n",
       "      <td>6.410000</td>\n",
       "      <td>4.447500</td>\n",
       "      <td>35.652500</td>\n",
       "    </tr>\n",
       "    <tr>\n",
       "      <th>50%</th>\n",
       "      <td>71.650000</td>\n",
       "      <td>8.510000</td>\n",
       "      <td>5.060000</td>\n",
       "      <td>39.215000</td>\n",
       "    </tr>\n",
       "    <tr>\n",
       "      <th>75%</th>\n",
       "      <td>72.600000</td>\n",
       "      <td>12.637500</td>\n",
       "      <td>6.322500</td>\n",
       "      <td>44.605000</td>\n",
       "    </tr>\n",
       "    <tr>\n",
       "      <th>max</th>\n",
       "      <td>81.110000</td>\n",
       "      <td>27.380000</td>\n",
       "      <td>9.910000</td>\n",
       "      <td>64.800000</td>\n",
       "    </tr>\n",
       "  </tbody>\n",
       "</table>\n",
       "</div>"
      ],
      "text/plain": [
       "             IPM  persentase penduduk miskin        tpt  \\\n",
       "count  34.000000                   34.000000  34.000000   \n",
       "mean   71.361176                   10.427353   5.492059   \n",
       "std     3.937439                    5.411687   1.818745   \n",
       "min    60.620000                    4.560000   3.010000   \n",
       "25%    69.730000                    6.410000   4.447500   \n",
       "50%    71.650000                    8.510000   5.060000   \n",
       "75%    72.600000                   12.637500   6.322500   \n",
       "max    81.110000                   27.380000   9.910000   \n",
       "\n",
       "       persentase pekerja formal  \n",
       "count                  34.000000  \n",
       "mean                   39.792353  \n",
       "std                     9.633167  \n",
       "min                    19.530000  \n",
       "25%                    35.652500  \n",
       "50%                    39.215000  \n",
       "75%                    44.605000  \n",
       "max                    64.800000  "
      ]
     },
     "execution_count": 4,
     "metadata": {},
     "output_type": "execute_result"
    }
   ],
   "source": [
    "data.describe()"
   ]
  },
  {
   "cell_type": "code",
   "execution_count": 5,
   "id": "a4a7a886-d8bd-46dd-aeb8-5311462e0b4f",
   "metadata": {
    "tags": []
   },
   "outputs": [
    {
     "data": {
      "image/png": "[encoded data removed]",
      "text/plain": [
       "<Figure size 600x600 with 4 Axes>"
      ]
     },
     "metadata": {},
     "output_type": "display_data"
    }
   ],
   "source": [
    "# Outlier Analysis\n",
    "fig, axs = plt.subplots(4, figsize = (6,6))\n",
    "plt1 = sns.boxplot(data['IPM'], orient='h', ax = axs[0])\n",
    "axs[0].set_xlabel('IPM')\n",
    "plt2 = sns.boxplot(data['persentase penduduk miskin'], orient='h', ax = axs[1])\n",
    "axs[1].set_xlabel('Presentase Penduduk Miskinr')\n",
    "plt3 = sns.boxplot(data['tpt'], orient='h', ax = axs[2])\n",
    "axs[2].set_xlabel('TPT')\n",
    "plt4 = sns.boxplot(data['persentase pekerja formal'], orient='h', ax = axs[3])\n",
    "axs[3].set_xlabel('persentase pekerja formal')\n",
    "plt.tight_layout()"
   ]
  },
  {
   "cell_type": "markdown",
   "id": "8c060a9b-734c-49f8-b02a-bbb213b679a2",
   "metadata": {},
   "source": [
    "## KORELASI"
   ]
  },
  {
   "cell_type": "markdown",
   "id": "2fe95daa-1af6-419d-9632-5600e57bcc3b",
   "metadata": {},
   "source": [
    "Masih terdapat data outlier pada masing masing variabel"
   ]
  },
  {
   "cell_type": "code",
   "execution_count": 11,
   "id": "56ba090a-d1cb-4153-ac78-129d1826b1af",
   "metadata": {
    "tags": []
   },
   "outputs": [],
   "source": [
    "data.rename(columns={'IPM': 'Y', 'persentase penduduk miskin': 'X1', 'tpt' : 'X2', 'persentase pekerja formal' : 'X3' }, inplace=True)"
   ]
  },
  {
   "cell_type": "code",
   "execution_count": 13,
   "id": "5ad8a944-562f-4787-9c2c-27c4b7797f07",
   "metadata": {
    "tags": []
   },
   "outputs": [
    {
     "name": "stdout",
     "output_type": "stream",
     "text": [
      "<class 'pandas.core.frame.DataFrame'>\n",
      "RangeIndex: 34 entries, 0 to 33\n",
      "Data columns (total 5 columns):\n",
      " #   Column    Non-Null Count  Dtype  \n",
      "---  ------    --------------  -----  \n",
      " 0   Provinsi  34 non-null     object \n",
      " 1   Y         34 non-null     float64\n",
      " 2   X1        34 non-null     float64\n",
      " 3   X2        34 non-null     float64\n",
      " 4   X3        34 non-null     float64\n",
      "dtypes: float64(4), object(1)\n",
      "memory usage: 1.5+ KB\n"
     ]
    }
   ],
   "source": [
    "data.info()"
   ]
  },
  {
   "cell_type": "code",
   "execution_count": 16,
   "id": "ede6e7b4-0a2b-49ac-8eb8-e4e92ae78ab8",
   "metadata": {
    "tags": []
   },
   "outputs": [],
   "source": [
    "kolom_yang_dihapus = 'Provinsi'\n",
    "data = data.drop(columns=kolom_yang_dihapus)"
   ]
  },
  {
   "cell_type": "code",
   "execution_count": 34,
   "id": "9a9c27b0-d3e8-4286-8538-6184028b04e1",
   "metadata": {
    "tags": []
   },
   "outputs": [
    {
     "name": "stderr",
     "output_type": "stream",
     "text": [
      "C:\\Users\\Khansa\\anaconda3\\Lib\\site-packages\\seaborn\\_oldcore.py:1498: FutureWarning: is_categorical_dtype is deprecated and will be removed in a future version. Use isinstance(dtype, CategoricalDtype) instead\n",
      "  if pd.api.types.is_categorical_dtype(vector):\n",
      "C:\\Users\\Khansa\\anaconda3\\Lib\\site-packages\\seaborn\\_oldcore.py:1498: FutureWarning: is_categorical_dtype is deprecated and will be removed in a future version. Use isinstance(dtype, CategoricalDtype) instead\n",
      "  if pd.api.types.is_categorical_dtype(vector):\n",
      "C:\\Users\\Khansa\\anaconda3\\Lib\\site-packages\\seaborn\\_oldcore.py:1498: FutureWarning: is_categorical_dtype is deprecated and will be removed in a future version. Use isinstance(dtype, CategoricalDtype) instead\n",
      "  if pd.api.types.is_categorical_dtype(vector):\n",
      "C:\\Users\\Khansa\\anaconda3\\Lib\\site-packages\\seaborn\\_oldcore.py:1498: FutureWarning: is_categorical_dtype is deprecated and will be removed in a future version. Use isinstance(dtype, CategoricalDtype) instead\n",
      "  if pd.api.types.is_categorical_dtype(vector):\n",
      "C:\\Users\\Khansa\\anaconda3\\Lib\\site-packages\\seaborn\\_oldcore.py:1498: FutureWarning: is_categorical_dtype is deprecated and will be removed in a future version. Use isinstance(dtype, CategoricalDtype) instead\n",
      "  if pd.api.types.is_categorical_dtype(vector):\n",
      "C:\\Users\\Khansa\\anaconda3\\Lib\\site-packages\\seaborn\\_oldcore.py:1498: FutureWarning: is_categorical_dtype is deprecated and will be removed in a future version. Use isinstance(dtype, CategoricalDtype) instead\n",
      "  if pd.api.types.is_categorical_dtype(vector):\n"
     ]
    },
    {
     "data": {
      "image/png": "[encoded data removed]",
      "text/plain": [
       "<Figure size 1000x800 with 5 Axes>"
      ]
     },
     "metadata": {},
     "output_type": "display_data"
    }
   ],
   "source": [
    "correlation_matrix = data.corr()\n",
    "fig, axes = plt.subplots(2, 2, figsize=(10, 8))\n",
    "sns.heatmap(correlation_matrix, annot=True, cmap='coolwarm', ax=axes[0, 0])\n",
    "axes[0, 0].set_title('Correlation Matrix')\n",
    "\n",
    "predictors = ['X1', 'X2', 'X3']\n",
    "\n",
    "for i, predictor in enumerate(predictors, start=1):\n",
    "    row = i // 2\n",
    "    col = i % 2\n",
    "    sns.scatterplot(x=predictor, y='Y', data=data, ax=axes[row, col])\n",
    "    axes[row, col].set_title(f'Scatter Plot (y vs {predictor})')\n",
    "\n",
    "plt.tight_layout()\n",
    "plt.show()"
   ]
  },
  {
   "cell_type": "markdown",
   "id": "ef877374-818c-4657-81e0-3f9f3c1ea07c",
   "metadata": {},
   "source": [
    "- Y vs X1 (persentase penduduk miskin) = menunjukkan secara visual scatterplot di atas bahwa plot mengikuti garis linier yang mengarah ke bawah, yang artinya IPM dengan persentase penduduk miskin berdasarkan provinsi memiliki hubungan linier negatif karena semakin besar IPM maka semakin persentase penduduk miskin suatu provinsi di Indonesia\n",
    "- Y vs X2 (TPT) = IPM dengan TPT tahun 2021 berdasarkan provinsi memiliki hubungan linier positif karena semakin besar IPM maka semakin besar TPT suatu provinsi di Indonesia tahun 2021\n",
    "- Y vs X3 (persentase pekerja formal) = IPM dengan persentase pekerja formal tahun 2021 berdasarkan provinsi memiliki hubungan linier positif karena semakin besar IPM maka semakin besar persenatse pekerja formal suatu provinsi di Indonesia tahun 2021."
   ]
  },
  {
   "cell_type": "markdown",
   "id": "99c92931-02da-42e6-8290-d244f5079ce4",
   "metadata": {},
   "source": [
    "- H0 : Tidak terdapat hubungan antara respon dan prediktor\n",
    "- H1 : Terdapat hubungan antara variabel respon dan prediktor\n",
    "- Tolak H0 P-Value < alpa"
   ]
  },
  {
   "cell_type": "code",
   "execution_count": 36,
   "id": "51e0b0ff-0146-4d31-b318-93afb76c556c",
   "metadata": {
    "tags": []
   },
   "outputs": [],
   "source": [
    "from scipy.stats import pearsonr"
   ]
  },
  {
   "cell_type": "code",
   "execution_count": 37,
   "id": "f481969b-ccc7-4ef8-bcf2-5db39c3c5410",
   "metadata": {
    "tags": []
   },
   "outputs": [
    {
     "name": "stdout",
     "output_type": "stream",
     "text": [
      "T-statistik antara y dan X1: -5.0511, p-value: 0.0000\n",
      "T-statistik antara y dan X2: 3.3200, p-value: 0.0000\n",
      "T-statistik antara y dan X3: 6.2464, p-value: 0.0000\n"
     ]
    }
   ],
   "source": [
    "correlation1, p_value = pearsonr(data['Y'], data[\"X1\"])\n",
    "correlation2, p_value = pearsonr(data['Y'], data[\"X2\"])\n",
    "correlation3, p_value = pearsonr(data['Y'], data[\"X3\"])\n",
    "n = len(data)\n",
    "t_statistic1 = (correlation1 * np.sqrt(n - 2)) / np.sqrt(1 - correlation1**2)\n",
    "t_statistic2 = (correlation2 * np.sqrt(n - 2)) / np.sqrt(1 - correlation2**2)\n",
    "t_statistic3 = (correlation3 * np.sqrt(n - 2)) / np.sqrt(1 - correlation3**2)\n",
    "print(f'T-statistik antara y dan X1: {t_statistic1:.4f}, p-value: {p_value:.4f}')\n",
    "print(f'T-statistik antara y dan X2: {t_statistic2:.4f}, p-value: {p_value:.4f}')\n",
    "print(f'T-statistik antara y dan X3: {t_statistic3:.4f}, p-value: {p_value:.4f}')"
   ]
  },
  {
   "cell_type": "markdown",
   "id": "580a478a-d7b7-4092-8db4-6764441651c2",
   "metadata": {},
   "source": [
    "- Y dan X1 = Tolak H0 : Terdapat hubungan antara Y dan X1 diperkuat lagi dengan nilai korelasi sebesar -0,67\n",
    "- Y dan X2 = Tolak H0 : Terdapat hubungan antara Y dan X2 diperkuat lagi dengan nilai korelasi sebesar 0,51\n",
    "- Y dan X3 = Tolak H0 : Terdapat hubungan antara Y dan X3 diperkuat lagi dengan nilai korelasi sebesar 0,74"
   ]
  },
  {
   "cell_type": "markdown",
   "id": "25120357-dfb6-40b5-9a74-fc159da5b375",
   "metadata": {},
   "source": [
    "## REGRESI LINEAR BERGANDA"
   ]
  },
  {
   "cell_type": "code",
   "execution_count": 38,
   "id": "0ee0441c-f7e2-456f-a1ae-be4cb09c6329",
   "metadata": {
    "tags": []
   },
   "outputs": [],
   "source": [
    "from sklearn.linear_model import LinearRegression"
   ]
  },
  {
   "cell_type": "code",
   "execution_count": 39,
   "id": "7132c57c-98a2-4ed6-aeeb-c2f837ec7d23",
   "metadata": {
    "tags": []
   },
   "outputs": [
    {
     "name": "stdout",
     "output_type": "stream",
     "text": [
      "Intercept: 65.131\n",
      "Koefisien X1 (Persentase Penduduk Miskin): -0.235\n",
      "Koefisien X2 (TPT) : -0.0\n",
      "Koefisien X3 (Persentase Pekerja Formal): 0.218\n"
     ]
    }
   ],
   "source": [
    "X = data[['X1', 'X2', 'X3']]\n",
    "y = data['Y']\n",
    "\n",
    "model = LinearRegression()\n",
    "model.fit(X, y)\n",
    "\n",
    "print('Intercept:', round(model.intercept_, 3))\n",
    "print('Koefisien X1 (Persentase Penduduk Miskin):', round(model.coef_[0], 3))\n",
    "print('Koefisien X2 (TPT) :', round(model.coef_[1], 3))\n",
    "print('Koefisien X3 (Persentase Pekerja Formal):', round(model.coef_[2], 3))"
   ]
  },
  {
   "cell_type": "markdown",
   "id": "fed636a6-7dec-4a90-a847-ce49490cfc09",
   "metadata": {},
   "source": [
    "- jika nilai persentase penduduk miskin, TPT, dan persentase pekerja formal adalah nol, maka nilai IPM adalah sebesar 65,13. Ketika persentase penduduk miskin bertambah sebesar 1% dengan syarat TPT dan persentase pekerja formal konstan, maka nilai IPM akan berkurang sebesar 0,235. Ketika TPT bertambah sebesar 1 satuan dengan syarat persentase penduduk miskin dan persentase pekerja formal konstan, maka nilai IPM akan berkurang sebesar 0 atau tidak bertambah. Ketika persentase pekerja formal bertambah sebesar 1 satuan dengan syarat persentase penduduk miskin dan TPT konstan, maka nilai IPM akan bertambah sebesar 0 atau tidak bertambah sebesar 0,2182\n"
   ]
  },
  {
   "cell_type": "markdown",
   "id": "954e5cf4-c6f9-4dde-a7c6-7a93bdb77755",
   "metadata": {},
   "source": [
    "### UJI SERENTAK with ANOVA ONE WAY"
   ]
  },
  {
   "cell_type": "code",
   "execution_count": 40,
   "id": "db1df5d4-3279-4763-a4e5-21d626a61f29",
   "metadata": {
    "tags": []
   },
   "outputs": [],
   "source": [
    "import statsmodels.api as sm\n",
    "from scipy import stats"
   ]
  },
  {
   "cell_type": "markdown",
   "id": "e321ee95-4c6d-4221-921d-33b9e2bdac32",
   "metadata": {},
   "source": [
    "- H0 = Persentase penduduk miskin, TPT, dan persentase pekerja formal tidak berpengaruh signifikan terhadap IPM \n",
    "- H1 = Persentase penduduk miskin, TPT, dan persentase pekerja formal berpengaruh signifikan terhadap IPM "
   ]
  },
  {
   "cell_type": "code",
   "execution_count": 55,
   "id": "b26a4f5c-51ce-4dfb-87a3-6d2e7b151078",
   "metadata": {
    "tags": []
   },
   "outputs": [
    {
     "name": "stdout",
     "output_type": "stream",
     "text": [
      "Nilai F-statistic: 279.71379059174745\n",
      "Nilai p-value: 1.8526585816968907e-41\n",
      "Terdapat perbedaan signifikan antara setidaknya satu pasang kelompok.\n",
      "Persentase penduduk miskin, TPT, dan persentase pekerja formal berpengaruh signifikan terhadap IPM\n"
     ]
    }
   ],
   "source": [
    "# Melakukan ANOVA\n",
    "f_statistic, p_value = stats.f_oneway(data['X1'], data['X2'], data['X3'])\n",
    "\n",
    "# Menampilkan hasil\n",
    "print(\"Nilai F-statistic:\", f_statistic)\n",
    "print(\"Nilai p-value:\", p_value)\n",
    "\n",
    "# Menafsirkan hasil\n",
    "alpha = 0.05  # tingkat signifikansi\n",
    "if p_value < alpha:\n",
    "    print(\"Terdapat perbedaan signifikan antara setidaknya satu pasang kelompok.\")\n",
    "    print(\"Persentase penduduk miskin, TPT, dan persentase pekerja formal berpengaruh signifikan terhadap IPM\")\n",
    "else:\n",
    "    print(\"Tidak cukup bukti untuk menyatakan adanya perbedaan signifikan antara kelompok.\")\n",
    "    print(\" Persentase penduduk miskin, TPT, dan persentase pekerja formal tidak berpengaruh signifikan terhadap IPM\")\n"
   ]
  },
  {
   "cell_type": "markdown",
   "id": "25a6c736-07ce-40b7-a262-2d5e878b3a55",
   "metadata": {},
   "source": [
    "### UJI PARSIAL with uji-F"
   ]
  },
  {
   "cell_type": "code",
   "execution_count": 54,
   "id": "afb2d4a1-cb5d-4848-b3ad-91ed887ccd9c",
   "metadata": {
    "tags": []
   },
   "outputs": [
    {
     "name": "stdout",
     "output_type": "stream",
     "text": [
      "F-statistic: 15.671512498135991\n",
      "p-value: 2.57397249309789e-06\n",
      "                            OLS Regression Results                            \n",
      "==============================================================================\n",
      "Dep. Variable:                      Y   R-squared:                       0.610\n",
      "Model:                            OLS   Adj. R-squared:                  0.572\n",
      "Method:                 Least Squares   F-statistic:                     15.67\n",
      "Date:                Wed, 15 Nov 2023   Prob (F-statistic):           2.57e-06\n",
      "Time:                        14:02:42   Log-Likelihood:                -78.307\n",
      "No. Observations:                  34   AIC:                             164.6\n",
      "Df Residuals:                      30   BIC:                             170.7\n",
      "Df Model:                           3                                         \n",
      "Covariance Type:            nonrobust                                         \n",
      "==============================================================================\n",
      "                 coef    std err          t      P>|t|      [0.025      0.975]\n",
      "------------------------------------------------------------------------------\n",
      "const         65.1315      3.295     19.768      0.000      58.403      71.860\n",
      "x1            -0.2348      0.109     -2.164      0.039      -0.456      -0.013\n",
      "x2            -0.0005      0.345     -0.001      0.999      -0.705       0.704\n",
      "x3             0.2182      0.077      2.818      0.008       0.060       0.376\n",
      "==============================================================================\n",
      "Omnibus:                        8.749   Durbin-Watson:                   1.616\n",
      "Prob(Omnibus):                  0.013   Jarque-Bera (JB):                8.277\n",
      "Skew:                           0.799   Prob(JB):                       0.0159\n",
      "Kurtosis:                       4.814   Cond. No.                         316.\n",
      "==============================================================================\n",
      "\n",
      "Notes:\n",
      "[1] Standard Errors assume that the covariance matrix of the errors is correctly specified.\n"
     ]
    }
   ],
   "source": [
    "import statsmodels.api as sm\n",
    "import numpy as np\n",
    "\n",
    "X1 = data['X1']\n",
    "X2 = data['X2']\n",
    "X3 = data['X3']\n",
    "X = sm.add_constant(np.column_stack((X1, X2, X3)))\n",
    "# Membuat model regresi linear berganda\n",
    "model = sm.OLS(y, X).fit()\n",
    "\n",
    "# Melakukan uji F-statistik untuk keseluruhan model\n",
    "f_statistic = model.fvalue\n",
    "p_value = model.f_pvalue\n",
    "\n",
    "# Menampilkan hasil uji F-statistik\n",
    "print(f\"F-statistic: {f_statistic}\")\n",
    "print(f\"p-value: {p_value}\")\n",
    "\n",
    "# Menampilkan summary model\n",
    "print(model.summary())\n"
   ]
  },
  {
   "cell_type": "markdown",
   "id": "c82373a7-0a0b-4586-b2a4-5067ae2ebade",
   "metadata": {},
   "source": [
    "- X1 , Tolak H0 Karena nilai p value < alpa yang berarti persentase penduduk miskin berpengaruh terhadap nilai IPM\n",
    "- X2 , Gagal Tolak H0 Karena nilai p value > alpa yang berarti TPT tidak berpengaruh terhadap nilai IPM\n",
    "- X3 , Tolak H0 Karena nilai p value < alpa yang berarti persentase pekerja formal berpengaruh terhadap nilai IPM \n"
   ]
  },
  {
   "cell_type": "markdown",
   "id": "0f9eeda0-685a-41fd-add8-069fa2f713c7",
   "metadata": {},
   "source": [
    "### KEBAIKAN MODEL"
   ]
  },
  {
   "cell_type": "code",
   "execution_count": 56,
   "id": "9a44c4c7-454a-4719-96a0-fe1c11d2464e",
   "metadata": {
    "tags": []
   },
   "outputs": [
    {
     "name": "stdout",
     "output_type": "stream",
     "text": [
      "R-squared: 0.6104631544118758\n"
     ]
    }
   ],
   "source": [
    "print(f\"R-squared: {model.rsquared}\")"
   ]
  },
  {
   "cell_type": "markdown",
   "id": "1291e235-0bfd-48b3-a8f7-9fa09df2f5b2",
   "metadata": {},
   "source": [
    "- Proporsi persentase penduduk miskin, TPT, dan persentase pekerja  mampu menjelaskan sebesar 61,04% variabel nilai IPM dan untuk sisanya sebesar 38,96% dijelaskan oleh variabel lain di luar model"
   ]
  },
  {
   "cell_type": "markdown",
   "id": "eb43bb3c-f3d2-46c7-ac54-cb840c6de80c",
   "metadata": {},
   "source": [
    "### MULTIKOLINEARITAS"
   ]
  },
  {
   "cell_type": "code",
   "execution_count": 57,
   "id": "d5f69414-a991-46e1-9493-e07b880e0e11",
   "metadata": {
    "tags": []
   },
   "outputs": [
    {
     "name": "stdout",
     "output_type": "stream",
     "text": [
      "  Variabel        VIF\n",
      "0    const  55.559727\n",
      "1       X1   1.712800\n",
      "2       X2   1.956496\n",
      "3       X3   2.763313\n"
     ]
    }
   ],
   "source": [
    "from statsmodels.stats.outliers_influence import variance_inflation_factor\n",
    "\n",
    "X = data[['X1', 'X2', 'X3']]\n",
    "y = data['Y']\n",
    "\n",
    "# Menambahkan konstanta ke variabel prediktor\n",
    "X = sm.add_constant(X)\n",
    "\n",
    "# Menghitung VIF untuk setiap variabel prediktor\n",
    "vif_data = pd.DataFrame()\n",
    "vif_data[\"Variabel\"] = X.columns\n",
    "vif_data[\"VIF\"] = [variance_inflation_factor(X.values, i) for i in range(X.shape[1])]\n",
    "\n",
    "print(vif_data)\n"
   ]
  },
  {
   "cell_type": "markdown",
   "id": "1f544a17-bfa0-4aa5-bb79-d76ef76de40e",
   "metadata": {},
   "source": [
    "Terlhiat nilai VIF masih < 10 yang berarti bahwa tidak ada hubungan antara variabel prediktor satu dengan variabel prediktor yang lain, dalam kasus ini yaitu tidak ada hubungan antara data prediktor tingkat pengangguran terbuka, persentase penduduk miskin, dan persentase pekerja formal "
   ]
  },
  {
   "cell_type": "markdown",
   "id": "3fce93cb-56fa-4da7-b2a7-d2ec53ced1b4",
   "metadata": {},
   "source": [
    "### IIDN"
   ]
  },
  {
   "cell_type": "markdown",
   "id": "82ada1e9-5c8b-4711-8fba-237cf16c2c5d",
   "metadata": {},
   "source": [
    "#### Residual Identik"
   ]
  },
  {
   "cell_type": "markdown",
   "id": "42dc27a5-3122-4d5c-b012-d7fd736b972a",
   "metadata": {},
   "source": [
    "- H0 : Residual yang dihasilkan pada model regresi memenuhi asumsi identik\n",
    "- H1 : Residual yang dihasilkan pada model regresi tidak memenuhi asumsi identik"
   ]
  },
  {
   "cell_type": "code",
   "execution_count": 59,
   "id": "a6d32790-bf22-482f-82f8-585b0553bdf0",
   "metadata": {
    "tags": []
   },
   "outputs": [
    {
     "data": {
      "image/png": "[encoded data removed]",
      "text/plain": [
       "<Figure size 640x480 with 1 Axes>"
      ]
     },
     "metadata": {},
     "output_type": "display_data"
    }
   ],
   "source": [
    "import matplotlib.pyplot as plt\n",
    "import statsmodels.api as sm\n",
    "\n",
    "# Membuat model regresi\n",
    "# Asumsikan variabel X dan y sudah ditentukan sebelumnya\n",
    "model = sm.OLS(y, X).fit()\n",
    "\n",
    "# Menghitung residual dari model\n",
    "residuals = model.resid\n",
    "\n",
    "# Membuat plot scatter antara nilai prediksi dan residual\n",
    "plt.scatter(model.fittedvalues, residuals)\n",
    "plt.xlabel('Nilai Prediksi')\n",
    "plt.ylabel('Residual')\n",
    "plt.title('Plot Scatter Residual vs Nilai Prediksi')\n",
    "plt.axhline(y=0, color='red', linestyle='--')  # Garis referensi residual nol\n",
    "plt.show()\n"
   ]
  },
  {
   "cell_type": "markdown",
   "id": "7c5e337a-db83-49f4-a90d-e8eed6dc3be7",
   "metadata": {},
   "source": [
    "menyebar secara acak dan tidak membentuk suatu pola, sehingga dapat disimpulkan bahwa residual data memenuhi asumsi residual identik"
   ]
  },
  {
   "cell_type": "code",
   "execution_count": 58,
   "id": "256664b1-9e18-43e3-91d2-d5d505e9f6cc",
   "metadata": {
    "tags": []
   },
   "outputs": [
    {
     "name": "stdout",
     "output_type": "stream",
     "text": [
      "{'LM Statistic': 5.229927027437518, 'LM-Test p-value': 0.15571449372761412, 'F-Statistic': 1.8178358575681086, 'F-Test p-value': 0.16518627514516454}\n"
     ]
    }
   ],
   "source": [
    "from statsmodels.compat import lzip\n",
    "from statsmodels.stats.diagnostic import het_breuschpagan\n",
    "\n",
    "# Menentukan variabel independen (X) dan variabel dependen (y)\n",
    "X = data[['X1', 'X2', 'X3']]\n",
    "y = data['Y']\n",
    "\n",
    "# Menambahkan konstanta ke variabel prediktor\n",
    "X = sm.add_constant(X)\n",
    "\n",
    "# Membuat model regresi linear\n",
    "model = sm.OLS(y, X).fit()\n",
    "\n",
    "# Menghitung residual dari model\n",
    "residuals = model.resid\n",
    "\n",
    "# Melakukan uji Breusch-Pagan test\n",
    "test_result = het_breuschpagan(residuals, X)\n",
    "labels = ['LM Statistic', 'LM-Test p-value', 'F-Statistic', 'F-Test p-value']\n",
    "print(dict(zip(labels, test_result)))\n"
   ]
  },
  {
   "cell_type": "markdown",
   "id": "68981205-0af3-4631-bb8e-19844bb836ae",
   "metadata": {},
   "source": [
    "- Berdasarkan keputusan diatas bahwa nilai dari p value > alpa ( 0,165 > 0,05 ) yang berarti gagal tolak HO yang artinya dapat disimpulkan asumsi residual yang dihasilkan pada model regresi memenuhi asumsi identik. "
   ]
  },
  {
   "cell_type": "markdown",
   "id": "90fcf297-f429-48da-8b29-077ee9382924",
   "metadata": {},
   "source": [
    "#### Residual Independen"
   ]
  },
  {
   "cell_type": "markdown",
   "id": "9b9e4120-0f9e-43e2-beba-13f739465e96",
   "metadata": {},
   "source": [
    "- H0 : Residual tidak memiliki korelasi positif atau negatif (independen)\n",
    "- H1 : Residual memiliki korelasi positif atau negatif (dependen)"
   ]
  },
  {
   "cell_type": "code",
   "execution_count": 61,
   "id": "1cdb22fd-d12c-4a9d-a0c6-76e753cafe52",
   "metadata": {
    "tags": []
   },
   "outputs": [
    {
     "data": {
      "image/png": "[encoded data removed]",
      "text/plain": [
       "<Figure size 640x480 with 1 Axes>"
      ]
     },
     "metadata": {},
     "output_type": "display_data"
    }
   ],
   "source": [
    "# Menambahkan konstanta ke variabel prediktor\n",
    "X = sm.add_constant(np.column_stack((X1, X2, X3)))\n",
    "\n",
    "# Membuat model regresi linear berganda\n",
    "model = sm.OLS(y, X).fit()\n",
    "\n",
    "# Menghitung residual dari model\n",
    "residuals = model.resid\n",
    "\n",
    "# Membuat plot scatter Residual vs Index\n",
    "plt.scatter(range(len(residuals)), residuals)\n",
    "plt.xlabel('Index Observasi')\n",
    "plt.ylabel('Residual')\n",
    "plt.title('Plot Scatter Residual vs Index')\n",
    "plt.axhline(y=0, color='red', linestyle='--')  # Garis referensi residual nol\n",
    "plt.show()\n"
   ]
  },
  {
   "cell_type": "code",
   "execution_count": 67,
   "id": "635f79e3-c4bf-470a-91c1-cd1a45b4aa9c",
   "metadata": {
    "tags": []
   },
   "outputs": [
    {
     "name": "stdout",
     "output_type": "stream",
     "text": [
      "Nilai Durbin-Watson: 1.9164989087305844\n"
     ]
    }
   ],
   "source": [
    "# Menambahkan konstanta ke variabel prediktor\n",
    "X = sm.add_constant(np.column_stack((X1, X2, X3)))\n",
    "\n",
    "# Membuat model regresi linear berganda\n",
    "model = sm.OLS(y, X).fit()\n",
    "\n",
    "# Menghitung residual dari model\n",
    "residuals = model.resid\n",
    "\n",
    "# Menghitung nilai Durbin-Watson\n",
    "durbin_watson_stat = sm.stats.stattools.durbin_watson(residuals)\n",
    "\n",
    "print(f\"Nilai Durbin-Watson: {durbin_watson_stat}\")"
   ]
  },
  {
   "cell_type": "markdown",
   "id": "79c55df3-e6b1-493d-b60b-3d171e22f596",
   "metadata": {},
   "source": [
    "#### Distribusi Normal"
   ]
  },
  {
   "cell_type": "markdown",
   "id": "48a9bf92-0bdb-4af2-bb5a-6d106564b5da",
   "metadata": {},
   "source": [
    "- H0 : Residual memenuhi asumsi berdistribusi normal\n",
    "- H1 : Residual tidak memenuhi asumsi berdistribusi normal"
   ]
  },
  {
   "cell_type": "code",
   "execution_count": 74,
   "id": "97871fa5-77a4-4cb1-924e-32de2535c67f",
   "metadata": {
    "tags": []
   },
   "outputs": [
    {
     "name": "stdout",
     "output_type": "stream",
     "text": [
      "Uji Shapiro-Wilk untuk variabel Y - Statistik: 0.9743748903274536, P-value: 0.04821312054991722\n",
      "Uji Shapiro-Wilk untuk variabel X1 - Statistik: 0.9510603547096252, P-value: 0.000974977039732039\n",
      "Uji Shapiro-Wilk untuk variabel X2 - Statistik: 0.9589545130729675, P-value: 0.0033893724903464317\n",
      "Uji Shapiro-Wilk untuk variabel X3 - Statistik: 0.9393166303634644, P-value: 0.0001751922827679664\n"
     ]
    }
   ],
   "source": [
    "from scipy import stats\n",
    "import numpy as np\n",
    "\n",
    "# Melakukan uji Shapiro-Wilk untuk variabel Y\n",
    "statistic_Y, p_value_Y = stats.shapiro(y)\n",
    "print(f\"Uji Shapiro-Wilk untuk variabel Y - Statistik: {statistic_Y}, P-value: {p_value_Y}\")\n",
    "\n",
    "# Melakukan uji Shapiro-Wilk untuk variabel X1\n",
    "statistic_X1, p_value_X1 = stats.shapiro(X1)\n",
    "print(f\"Uji Shapiro-Wilk untuk variabel X1 - Statistik: {statistic_X1}, P-value: {p_value_X1}\")\n",
    "\n",
    "# Melakukan uji Shapiro-Wilk untuk variabel X2\n",
    "statistic_X2, p_value_X2 = stats.shapiro(X2)\n",
    "print(f\"Uji Shapiro-Wilk untuk variabel X2 - Statistik: {statistic_X2}, P-value: {p_value_X2}\")\n",
    "\n",
    "# Melakukan uji Shapiro-Wilk untuk variabel X3\n",
    "statistic_X3, p_value_X3 = stats.shapiro(X3)\n",
    "print(f\"Uji Shapiro-Wilk untuk variabel X3 - Statistik: {statistic_X3}, P-value: {p_value_X3}\")\n"
   ]
  },
  {
   "cell_type": "markdown",
   "id": "ca82658d-73f0-47f1-86c9-2966f55960ec",
   "metadata": {},
   "source": [
    "Data tidak memenuhi asumsi distribusi normal"
   ]
  },
  {
   "cell_type": "code",
   "execution_count": null,
   "id": "9b45f2e0-9663-4d21-ae1e-5aa109402dae",
   "metadata": {},
   "outputs": [],
   "source": []
  }
 ],
 "metadata": {
  "kernelspec": {
   "display_name": "Python 3 (ipykernel)",
   "language": "python",
   "name": "python3"
  },
  "language_info": {
   "codemirror_mode": {
    "name": "ipython",
    "version": 3
   },
   "file_extension": ".py",
   "mimetype": "text/x-python",
   "name": "python",
   "nbconvert_exporter": "python",
   "pygments_lexer": "ipython3",
   "version": "3.11.4"
  }
 },
 "nbformat": 4,
 "nbformat_minor": 5
}
